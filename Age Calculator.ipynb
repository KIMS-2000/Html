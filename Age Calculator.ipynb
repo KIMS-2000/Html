{
 "cells": [
  {
   "cell_type": "markdown",
   "metadata": {},
   "source": [
    "# HTML"
   ]
  },
  {
   "cell_type": "code",
   "execution_count": null,
   "metadata": {},
   "outputs": [],
   "source": [
    "<html>\n",
    "<head>\n",
    "    <title>Exact Age Calculator</title>\n",
    "\t<link rel='stylesheet' href='style.css'/>\n",
    "\t<script src=\"https://code.jquery.com/jquery-latest.min.js\"></script>\n",
    "\t<script src='script.js'></script>\n",
    "</head>\n",
    "<body>\n",
    "    <div id=\"main_container\">\n",
    "        <div id=\"birth_date_input\">Birth Date*: <input type=\"date\" id=\"birth_date\"></div>\n",
    "        <br/>\n",
    "        <div id=\"calculate\">Calculate your age**</div>\n",
    "        \n",
    "        <div id=\"age_container\"><span id=\"exact_age\">Age</span></div>\n",
    "        <p><em>* The year here is 365 days and the month here is 30 days, that means your birthday may not mean you will be 0 days old.</br>  \n",
    "        **Don't worry I will not share your input.</em></p>\n",
    "        </p>\n",
    "    </div>\n",
    "</body>\n",
    "</html>"
   ]
  },
  {
   "cell_type": "markdown",
   "metadata": {},
   "source": [
    "# Css"
   ]
  },
  {
   "cell_type": "code",
   "execution_count": null,
   "metadata": {},
   "outputs": [],
   "source": [
    "#main_container {\n",
    "    width: 400px;\n",
    "    margin: 20px;\n",
    "    margin-left: auto;\n",
    "    margin-right: auto;\n",
    "    padding: 3px;\n",
    "    font-family: sans-serif;\n",
    "    border-radius: 20px;\n",
    "    border: 3px solid #999;\n",
    "}\n",
    "\n",
    "#birth_date_input, #age_container {\n",
    "    text-align: center;\n",
    "    margin: 20px;\n",
    "    margin-left: auto;\n",
    "    margin-right: auto;\n",
    "}\n",
    "\n",
    "#age_container {\n",
    "    margin: 40px 5px;\n",
    "    padding: 20px;\n",
    "    border-radius: 500px;\n",
    "    border: 1px solid #000;\n",
    "    font-weight: bolder;\n",
    "    background: #CDF;\n",
    "    font-size: 20px;\n",
    "    line-height: 40px;\n",
    "}\n",
    "\n",
    "#calculate {\n",
    "    cursor: pointer;\n",
    "    text-align: center;\n",
    "    width: 200px;\n",
    "    padding: 5px;\n",
    "    margin: 10px;\n",
    "    margin-left: auto;\n",
    "    margin-right: auto;\n",
    "    border: 1px solid #999;\n",
    "    border-radius: 10px;\n",
    "    background: #FFD119;\n",
    "    background: -webkit-gradient(linear, left top, left bottom, from(#FFD119), to(#E6B800));\n",
    "\tbackground: -moz-linear-gradient(top, #FFD119, #E6B800);\n",
    "    font-weight: bold;\n",
    "    height: 28px;\n",
    "    box-shadow: 0 -8px inset;\n",
    "}\n",
    "\n",
    "#calculate:hover {\n",
    "    background: -webkit-gradient(linear, left top, left bottom, from(#E6B800), to(#FFD119));\n",
    "\tbackground: -moz-linear-gradient(top, #E6B800, #FFD119);\n",
    "    margin-top: 13px;\n",
    "    height: 20px;\n",
    "    box-shadow: 0 -5px inset;\n",
    "}\n",
    "\n",
    "#calculate:active {\n",
    "    background: #403300;\n",
    "    padding-top: 10px;\n",
    "    height: 20px;\n",
    "    box-shadow: 0 5px #000 inset;\n",
    "}\n",
    "\n",
    "#age {\n",
    "    padding: 5px;\n",
    "    border: 3px dashed #AAA;\n",
    "    background-color: Gray;\n",
    "}\n",
    "html{\n",
    "    background:rgb(100, 100, 1000);\n",
    "}"
   ]
  },
  {
   "cell_type": "markdown",
   "metadata": {},
   "source": [
    "# JS"
   ]
  },
  {
   "cell_type": "code",
   "execution_count": null,
   "metadata": {},
   "outputs": [],
   "source": [
    "$(document).ready(function(){\n",
    "    $(\"#calculate\").click(function(){\n",
    "        var mdate = $(\"#birth_date\").val().toString();\n",
    "        var yearThen = parseInt(mdate.substring(0,4), 10);\n",
    "        var monthThen = parseInt(mdate.substring(5,7), 10);\n",
    "        var dayThen = parseInt(mdate.substring(8,10), 10);\n",
    "        \n",
    "        var today = new Date();\n",
    "        var birthday = new Date(yearThen, monthThen-1, dayThen);\n",
    "        \n",
    "        var differenceInMilisecond = today.valueOf() - birthday.valueOf();\n",
    "        \n",
    "        var year_age = Math.floor(differenceInMilisecond / 31536000000);\n",
    "        var day_age = Math.floor((differenceInMilisecond % 31536000000) / 86400000);\n",
    "        \n",
    "        if ((today.getMonth() == birthday.getMonth()) && (today.getDate() == birthday.getDate())) {\n",
    "            alert(\"Happy B'day!!!\");\n",
    "        }\n",
    "        \n",
    "        var month_age = Math.floor(day_age/30);\n",
    "        \n",
    "        day_age = day_age % 30;\n",
    "        \n",
    "        if (isNaN(year_age) || isNaN(month_age) || isNaN(day_age)) {\n",
    "            $(\"#exact_age\").text(\"Invalid birthday - Please try again!\");\n",
    "        }\n",
    "        else {\n",
    "            $(\"#exact_age\").html(\"You are<br/><span id=\\\"age\\\">\" + year_age + \" years \" + month_age + \" months \" + day_age + \" days</span> old\");\n",
    "        }\n",
    "    });\n",
    "});"
   ]
  },
  {
   "cell_type": "code",
   "execution_count": null,
   "metadata": {},
   "outputs": [],
   "source": []
  }
 ],
 "metadata": {
  "kernelspec": {
   "display_name": "Python 3",
   "language": "python",
   "name": "python3"
  },
  "language_info": {
   "codemirror_mode": {
    "name": "ipython",
    "version": 3
   },
   "file_extension": ".py",
   "mimetype": "text/x-python",
   "name": "python",
   "nbconvert_exporter": "python",
   "pygments_lexer": "ipython3",
   "version": "3.7.6"
  }
 },
 "nbformat": 4,
 "nbformat_minor": 4
}
